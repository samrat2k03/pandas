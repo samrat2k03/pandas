{
  "nbformat": 4,
  "nbformat_minor": 0,
  "metadata": {
    "colab": {
      "provenance": []
    },
    "kernelspec": {
      "name": "python3",
      "display_name": "Python 3"
    },
    "language_info": {
      "name": "python"
    }
  },
  "cells": [
    {
      "cell_type": "markdown",
      "source": [
        "# Pandas"
      ],
      "metadata": {
        "id": "4KNM8SrIiKnS"
      }
    },
    {
      "cell_type": "markdown",
      "source": [
        "⚡**there are 2 data structures in pandas** \n",
        "      \n",
        "\n",
        "1.   **Series**\n",
        "2.   **DataFrames**  ⚡"
      ],
      "metadata": {
        "id": "Pp_9fgrmS08P"
      }
    },
    {
      "cell_type": "markdown",
      "source": [
        "Series\n",
        "--> one dimensional array holding data of any type"
      ],
      "metadata": {
        "id": "vlewi4ncTO0x"
      }
    },
    {
      "cell_type": "code",
      "source": [
        "import pandas as pd\n",
        "\n",
        "mydata = ['s','a','m','r','a','t']\n",
        "\n",
        "mySeries = pd.Series(mydata)\n",
        "print(mySeries)"
      ],
      "metadata": {
        "colab": {
          "base_uri": "https://localhost:8080/"
        },
        "id": "YaZg5mwBTQgU",
        "outputId": "44830935-2488-45ef-b95f-5a3846e5942c"
      },
      "execution_count": null,
      "outputs": [
        {
          "output_type": "stream",
          "name": "stdout",
          "text": [
            "0    s\n",
            "1    a\n",
            "2    m\n",
            "3    r\n",
            "4    a\n",
            "5    t\n",
            "dtype: object\n"
          ]
        }
      ]
    },
    {
      "cell_type": "code",
      "source": [
        "# mySeriesData = (['samrat','sanjay','bruce'])\n",
        "mySeriesData = {'author': 'samrat', 'nickname': 'sanjay', 'fav fiction character': 'bruce'}\n",
        "mySeries2 = pd.Series(mySeriesData)\n",
        "print(mySeries2)"
      ],
      "metadata": {
        "colab": {
          "base_uri": "https://localhost:8080/"
        },
        "id": "JD6jGHtnaR4K",
        "outputId": "6b60ccb3-6022-4ad6-8e1c-74df64dd81fd"
      },
      "execution_count": null,
      "outputs": [
        {
          "output_type": "stream",
          "name": "stdout",
          "text": [
            "author                   samrat\n",
            "nickname                 sanjay\n",
            "fav fiction character     bruce\n",
            "dtype: object\n"
          ]
        }
      ]
    },
    {
      "cell_type": "code",
      "source": [
        "age = pd.Series([20,21,15], name = \"age\")\n",
        "print(age)"
      ],
      "metadata": {
        "colab": {
          "base_uri": "https://localhost:8080/"
        },
        "id": "p69UOW-0dznI",
        "outputId": "7d778a8e-bff4-4fd5-a53d-116dc2d20d3f"
      },
      "execution_count": null,
      "outputs": [
        {
          "output_type": "stream",
          "name": "stdout",
          "text": [
            "0    20\n",
            "1    21\n",
            "2    15\n",
            "Name: age, dtype: int64\n"
          ]
        }
      ]
    },
    {
      "cell_type": "code",
      "source": [
        "# i want to maximum value in age\n",
        "print('maximum age is :', age.max())\n",
        "# i want to minimum value in age\n",
        "print('minimum age is :', age.min())"
      ],
      "metadata": {
        "colab": {
          "base_uri": "https://localhost:8080/"
        },
        "id": "AHCuosMNeZRb",
        "outputId": "f8d1cde3-f8d3-4a41-c22c-bb4d09501773"
      },
      "execution_count": null,
      "outputs": [
        {
          "output_type": "stream",
          "name": "stdout",
          "text": [
            "maximum age is : 21\n",
            "minimum age is : 15\n"
          ]
        }
      ]
    },
    {
      "cell_type": "code",
      "source": [
        "### it describes the all details in the array \n",
        "print(age.describe())"
      ],
      "metadata": {
        "colab": {
          "base_uri": "https://localhost:8080/"
        },
        "id": "5AkUbZZme9vI",
        "outputId": "29a2954d-9363-4f57-dba8-8244fe4bf470"
      },
      "execution_count": null,
      "outputs": [
        {
          "output_type": "stream",
          "name": "stdout",
          "text": [
            "count     3.000000\n",
            "mean     18.666667\n",
            "std       3.214550\n",
            "min      15.000000\n",
            "25%      17.500000\n",
            "50%      20.000000\n",
            "75%      20.500000\n",
            "max      21.000000\n",
            "Name: age, dtype: float64\n"
          ]
        }
      ]
    },
    {
      "cell_type": "markdown",
      "source": [
        "The describe() method provides a quick overview of the numerical data in a DataFrame."
      ],
      "metadata": {
        "id": "cRm4V5pgfvWC"
      }
    },
    {
      "cell_type": "markdown",
      "source": [
        "💪⚡ A Series, by contrast, is a sequence of data values. If a DataFrame is a table, a Series is a list. And in fact you can create one with nothing more than a list:*italicized text* ⚡"
      ],
      "metadata": {
        "id": "LYh4BtXEZeJL"
      }
    },
    {
      "cell_type": "markdown",
      "source": [
        "Dataframe --> multi dimensional array"
      ],
      "metadata": {
        "id": "VBVabQAUU5T3"
      }
    },
    {
      "cell_type": "code",
      "source": [
        "df = pd.DataFrame({\n",
        "    'Name':['spiderman','ironman','captain america','thor'], \n",
        "    'power':['webs','suit','shield','hammer',],\n",
        "    'Avenger':['yes','yes','yes','yes']\n",
        "    },\n",
        "                  index = [10,20,30,40]\n",
        "                  );\n",
        "print(df)"
      ],
      "metadata": {
        "colab": {
          "base_uri": "https://localhost:8080/"
        },
        "id": "oeOHCbbTU6h_",
        "outputId": "edc2b529-8920-4e47-bd91-7202653c2321"
      },
      "execution_count": null,
      "outputs": [
        {
          "output_type": "stream",
          "name": "stdout",
          "text": [
            "               Name   power Avenger\n",
            "10        spiderman    webs     yes\n",
            "20          ironman    suit     yes\n",
            "30  captain america  shield     yes\n",
            "40             thor  hammer     yes\n"
          ]
        }
      ]
    },
    {
      "cell_type": "code",
      "source": [
        "### When selecting a single column of a pandas DataFrame, the result is a pandas Series.\n",
        "### To select the column, use the column label in between square brackets [].\n",
        "\n",
        "print(df[\"Name\"])"
      ],
      "metadata": {
        "colab": {
          "base_uri": "https://localhost:8080/"
        },
        "id": "OPqAJk5BXfms",
        "outputId": "e0dbb097-2170-4793-fc7d-f7d90a8d64f5"
      },
      "execution_count": null,
      "outputs": [
        {
          "output_type": "stream",
          "name": "stdout",
          "text": [
            "10          spiderman\n",
            "20            ironman\n",
            "30    captain america\n",
            "40               thor\n",
            "Name: Name, dtype: object\n"
          ]
        }
      ]
    },
    {
      "cell_type": "code",
      "source": [
        "print(df[\"power\"])"
      ],
      "metadata": {
        "colab": {
          "base_uri": "https://localhost:8080/"
        },
        "id": "XOjArYMSdNHI",
        "outputId": "6e5fe281-5767-4134-c6e8-c3176b07e9fb"
      },
      "execution_count": null,
      "outputs": [
        {
          "output_type": "stream",
          "name": "stdout",
          "text": [
            "10      webs\n",
            "20      suit\n",
            "30    shield\n",
            "40    hammer\n",
            "Name: power, dtype: object\n"
          ]
        }
      ]
    },
    {
      "cell_type": "markdown",
      "source": [
        "# Read data from file"
      ],
      "metadata": {
        "id": "CnvYltpSiHme"
      }
    },
    {
      "cell_type": "code",
      "source": [
        "read_file = pd.read_csv(\"student.csv\")\n",
        "print(read_file)"
      ],
      "metadata": {
        "colab": {
          "base_uri": "https://localhost:8080/"
        },
        "id": "a0C6zeUliWEk",
        "outputId": "8069ffb9-930c-425d-fca2-47a3188e9c2c"
      },
      "execution_count": null,
      "outputs": [
        {
          "output_type": "stream",
          "name": "stdout",
          "text": [
            "    id         name  class  mark  gender\n",
            "0    1     John Deo   Four    75  female\n",
            "1    2     Max Ruin  Three    85    male\n",
            "2    3       Arnold  Three    55    male\n",
            "3    4   Krish Star   Four    60  female\n",
            "4    5    John Mike   Four    60  female\n",
            "5    6    Alex John   Four    55    male\n",
            "6    7  My John Rob  Fifth    78    male\n",
            "7    8       Asruid   Five    85    male\n",
            "8    9      Tes Qry    Six    78    male\n",
            "9   10     Big John   Four    55  female\n",
            "10  11       Ronald    Six    89  female\n",
            "11  12        Recky    Six    94  female\n",
            "12  13          Kty  Seven    88  female\n",
            "13  14         Bigy  Seven    88  female\n",
            "14  15     Tade Row   Four    88    male\n",
            "15  16        Gimmy   Four    88    male\n",
            "16  17        Tumyu    Six    54    male\n",
            "17  18        Honny   Five    75    male\n",
            "18  19        Tinny   Nine    18    male\n",
            "19  20       Jackly   Nine    65  female\n",
            "20  21   Babby John   Four    69  female\n",
            "21  22       Reggid  Seven    55  female\n",
            "22  23        Herod  Eight    79    male\n",
            "23  24    Tiddy Now  Seven    78    male\n",
            "24  25     Giff Tow  Seven    88    male\n",
            "25  26       Crelea  Seven    79    male\n",
            "26  27     Big Nose  Three    81  female\n",
            "27  28    Rojj Base  Seven    86  female\n",
            "28  29  Tess Played  Seven    55    male\n",
            "29  30    Reppy Red    Six    79  female\n",
            "30  31  Marry Toeey   Four    88    male\n",
            "31  32    Binn Rott  Seven    90  female\n",
            "32  33    Kenn Rein    Six    96  female\n",
            "33  34     Gain Toe  Seven    69    male\n",
            "34  35   Rows Noump    Six    88  female\n"
          ]
        }
      ]
    },
    {
      "cell_type": "code",
      "source": [
        "# i want to load some column and rows \n",
        "\n",
        "print(read_file.head(8))\n",
        "\n",
        "# i do some conditions \n",
        "\n",
        "print(read_file.mark > 90)\n",
        "\n",
        "# pandas also provides a tail() method. For example, titanic.tail(10)\n",
        "#will return the last 10 rows of the DataFrame\n",
        "\n",
        "print(read_file.tail(2))"
      ],
      "metadata": {
        "colab": {
          "base_uri": "https://localhost:8080/"
        },
        "id": "x9AcoAx9jT3P",
        "outputId": "c40bff76-f742-4ab6-8460-69b63ed335b4"
      },
      "execution_count": null,
      "outputs": [
        {
          "output_type": "stream",
          "name": "stdout",
          "text": [
            "   id         name  class  mark  gender\n",
            "0   1     John Deo   Four    75  female\n",
            "1   2     Max Ruin  Three    85    male\n",
            "2   3       Arnold  Three    55    male\n",
            "3   4   Krish Star   Four    60  female\n",
            "4   5    John Mike   Four    60  female\n",
            "5   6    Alex John   Four    55    male\n",
            "6   7  My John Rob  Fifth    78    male\n",
            "7   8       Asruid   Five    85    male\n",
            "0     False\n",
            "1     False\n",
            "2     False\n",
            "3     False\n",
            "4     False\n",
            "5     False\n",
            "6     False\n",
            "7     False\n",
            "8     False\n",
            "9     False\n",
            "10    False\n",
            "11     True\n",
            "12    False\n",
            "13    False\n",
            "14    False\n",
            "15    False\n",
            "16    False\n",
            "17    False\n",
            "18    False\n",
            "19    False\n",
            "20    False\n",
            "21    False\n",
            "22    False\n",
            "23    False\n",
            "24    False\n",
            "25    False\n",
            "26    False\n",
            "27    False\n",
            "28    False\n",
            "29    False\n",
            "30    False\n",
            "31    False\n",
            "32     True\n",
            "33    False\n",
            "34    False\n",
            "Name: mark, dtype: bool\n",
            "    id        name  class  mark  gender\n",
            "33  34    Gain Toe  Seven    69    male\n",
            "34  35  Rows Noump    Six    88  female\n"
          ]
        }
      ]
    },
    {
      "cell_type": "markdown",
      "source": [
        "Read file from excel sheet"
      ],
      "metadata": {
        "id": "3f1kKSHwk-NF"
      }
    },
    {
      "cell_type": "code",
      "source": [
        "read_file_excel = pd.read_excel(\"student.xlsx\")\n",
        "print(read_file_excel)\n",
        "\n",
        "### sort the heads \n",
        "print(read_file_excel.name)\n",
        "\n",
        "print(read_file_excel.head(8))\n",
        "\n",
        "print(read_file_excel.tail(8))\n",
        "\n"
      ],
      "metadata": {
        "colab": {
          "base_uri": "https://localhost:8080/"
        },
        "id": "GGS_c1ERk9gn",
        "outputId": "a1c8e998-b96f-4294-a02e-ef8de6be1318"
      },
      "execution_count": null,
      "outputs": [
        {
          "output_type": "stream",
          "name": "stdout",
          "text": [
            "    id         name  class  mark  gender\n",
            "0    1     John Deo   Four    75  female\n",
            "1    2     Max Ruin  Three    85    male\n",
            "2    3       Arnold  Three    55    male\n",
            "3    4   Krish Star   Four    60  female\n",
            "4    5    John Mike   Four    60  female\n",
            "5    6    Alex John   Four    55    male\n",
            "6    7  My John Rob   Five    78    male\n",
            "7    8       Asruid   Five    85    male\n",
            "8    9      Tes Qry    Six    78    male\n",
            "9   10     Big John   Four    55  female\n",
            "10  11       Ronald    Six    89  female\n",
            "11  12        Recky    Six    94  female\n",
            "12  13          Kty  Seven    88  female\n",
            "13  14         Bigy  Seven    88  female\n",
            "14  15     Tade Row   Four    88    male\n",
            "15  16        Gimmy   Four    88    male\n",
            "16  17        Tumyu    Six    54    male\n",
            "17  18        Honny   Five    75    male\n",
            "18  19        Tinny   Nine    18    male\n",
            "19  20       Jackly   Nine    65  female\n",
            "20  21   Babby John   Four    69  female\n",
            "21  22       Reggid  Seven    55  female\n",
            "22  23        Herod  Eight    79    male\n",
            "23  24    Tiddy Now  Seven    78    male\n",
            "24  25     Giff Tow    Six    88    male\n",
            "25  26       Crelea  Seven    79    male\n",
            "26  27     Big Nose  Three    81  female\n",
            "27  28    Rojj Base  Seven    86  female\n",
            "28  29  Tess Played  Seven    55    male\n",
            "29  30    Reppy Red    Six    79  female\n",
            "30  31  Marry Toeey   Four    88    male\n",
            "31  32    Binn Rott  Seven    90  female\n",
            "32  33    Kenn Rein    Six    96  female\n",
            "33  34     Gain Toe  Seven    69    male\n",
            "34  35   Rows Noump    Six    88  female\n",
            "0        John Deo\n",
            "1        Max Ruin\n",
            "2          Arnold\n",
            "3      Krish Star\n",
            "4       John Mike\n",
            "5       Alex John\n",
            "6     My John Rob\n",
            "7          Asruid\n",
            "8         Tes Qry\n",
            "9        Big John\n",
            "10         Ronald\n",
            "11          Recky\n",
            "12            Kty\n",
            "13           Bigy\n",
            "14       Tade Row\n",
            "15          Gimmy\n",
            "16          Tumyu\n",
            "17          Honny\n",
            "18          Tinny\n",
            "19         Jackly\n",
            "20     Babby John\n",
            "21         Reggid\n",
            "22          Herod\n",
            "23      Tiddy Now\n",
            "24       Giff Tow\n",
            "25         Crelea\n",
            "26       Big Nose\n",
            "27      Rojj Base\n",
            "28    Tess Played\n",
            "29      Reppy Red\n",
            "30    Marry Toeey\n",
            "31      Binn Rott\n",
            "32      Kenn Rein\n",
            "33       Gain Toe\n",
            "34     Rows Noump\n",
            "Name: name, dtype: object\n",
            "   id         name  class  mark  gender\n",
            "0   1     John Deo   Four    75  female\n",
            "1   2     Max Ruin  Three    85    male\n",
            "2   3       Arnold  Three    55    male\n",
            "3   4   Krish Star   Four    60  female\n",
            "4   5    John Mike   Four    60  female\n",
            "5   6    Alex John   Four    55    male\n",
            "6   7  My John Rob   Five    78    male\n",
            "7   8       Asruid   Five    85    male\n",
            "    id         name  class  mark  gender\n",
            "27  28    Rojj Base  Seven    86  female\n",
            "28  29  Tess Played  Seven    55    male\n",
            "29  30    Reppy Red    Six    79  female\n",
            "30  31  Marry Toeey   Four    88    male\n",
            "31  32    Binn Rott  Seven    90  female\n",
            "32  33    Kenn Rein    Six    96  female\n",
            "33  34     Gain Toe  Seven    69    male\n",
            "34  35   Rows Noump    Six    88  female\n"
          ]
        }
      ]
    },
    {
      "cell_type": "code",
      "source": [
        "### get information from the file\n",
        "\n",
        "print(read_file_excel.info())"
      ],
      "metadata": {
        "colab": {
          "base_uri": "https://localhost:8080/"
        },
        "id": "z2INs6JtmVJH",
        "outputId": "fa1abc05-34f9-47ee-b36d-10195a434636"
      },
      "execution_count": null,
      "outputs": [
        {
          "output_type": "stream",
          "name": "stdout",
          "text": [
            "<class 'pandas.core.frame.DataFrame'>\n",
            "RangeIndex: 35 entries, 0 to 34\n",
            "Data columns (total 5 columns):\n",
            " #   Column  Non-Null Count  Dtype \n",
            "---  ------  --------------  ----- \n",
            " 0   id      35 non-null     int64 \n",
            " 1   name    35 non-null     object\n",
            " 2   class   35 non-null     object\n",
            " 3   mark    35 non-null     int64 \n",
            " 4   gender  35 non-null     object\n",
            "dtypes: int64(2), object(3)\n",
            "memory usage: 1.5+ KB\n",
            "None\n"
          ]
        }
      ]
    },
    {
      "cell_type": "code",
      "source": [
        "### to select the mmultiple columns\n",
        "\n",
        "# print(read_file_excel)\n",
        "print(read_file_excel[['name','mark']])\n"
      ],
      "metadata": {
        "colab": {
          "base_uri": "https://localhost:8080/"
        },
        "id": "c7U3UXTemnaR",
        "outputId": "a74067ab-a557-4e28-8c87-a45e929fa238"
      },
      "execution_count": null,
      "outputs": [
        {
          "output_type": "stream",
          "name": "stdout",
          "text": [
            "           name  mark\n",
            "0      John Deo    75\n",
            "1      Max Ruin    85\n",
            "2        Arnold    55\n",
            "3    Krish Star    60\n",
            "4     John Mike    60\n",
            "5     Alex John    55\n",
            "6   My John Rob    78\n",
            "7        Asruid    85\n",
            "8       Tes Qry    78\n",
            "9      Big John    55\n",
            "10       Ronald    89\n",
            "11        Recky    94\n",
            "12          Kty    88\n",
            "13         Bigy    88\n",
            "14     Tade Row    88\n",
            "15        Gimmy    88\n",
            "16        Tumyu    54\n",
            "17        Honny    75\n",
            "18        Tinny    18\n",
            "19       Jackly    65\n",
            "20   Babby John    69\n",
            "21       Reggid    55\n",
            "22        Herod    79\n",
            "23    Tiddy Now    78\n",
            "24     Giff Tow    88\n",
            "25       Crelea    79\n",
            "26     Big Nose    81\n",
            "27    Rojj Base    86\n",
            "28  Tess Played    55\n",
            "29    Reppy Red    79\n",
            "30  Marry Toeey    88\n",
            "31    Binn Rott    90\n",
            "32    Kenn Rein    96\n",
            "33     Gain Toe    69\n",
            "34   Rows Noump    88\n"
          ]
        }
      ]
    },
    {
      "cell_type": "code",
      "source": [
        "# filter the data \n",
        "filter = read_file_excel[read_file_excel['mark'].isin([40])]\n",
        "print(filter)"
      ],
      "metadata": {
        "colab": {
          "base_uri": "https://localhost:8080/"
        },
        "id": "L_9s-EUYnuSr",
        "outputId": "4f356ad9-87bb-41fa-b124-26151dfbf007"
      },
      "execution_count": null,
      "outputs": [
        {
          "output_type": "stream",
          "name": "stdout",
          "text": [
            "Empty DataFrame\n",
            "Columns: [id, name, class, mark, gender]\n",
            "Index: []\n"
          ]
        }
      ]
    },
    {
      "cell_type": "code",
      "source": [
        "# filter the data from the excel file\n",
        "range_From_excelFile = read_file_excel[(read_file_excel['mark'] >= 50) & (read_file_excel['mark'] <= 60)]\n",
        "print(range_From_excelFile)"
      ],
      "metadata": {
        "colab": {
          "base_uri": "https://localhost:8080/"
        },
        "id": "Lunkx3MKpqpR",
        "outputId": "a54a6576-bc86-40e7-958f-79e16483b43f"
      },
      "execution_count": null,
      "outputs": [
        {
          "output_type": "stream",
          "name": "stdout",
          "text": [
            "    id         name  class  mark  gender\n",
            "2    3       Arnold  Three    55    male\n",
            "3    4   Krish Star   Four    60  female\n",
            "4    5    John Mike   Four    60  female\n",
            "5    6    Alex John   Four    55    male\n",
            "9   10     Big John   Four    55  female\n",
            "16  17        Tumyu    Six    54    male\n",
            "21  22       Reggid  Seven    55  female\n",
            "28  29  Tess Played  Seven    55    male\n"
          ]
        }
      ]
    },
    {
      "cell_type": "markdown",
      "source": [
        ".The loc/iloc operators are required in front of the selection brackets []. When using loc/iloc, the part\n",
        "before the comma is the rows you want, and the part after the comma is the columns you want to select.\n",
        "When using the column names, row labels or a condition expression, use the loc operator in front of the selection\n",
        "brackets []."
      ],
      "metadata": {
        "id": "IWZkXCuR1BO3"
      }
    },
    {
      "cell_type": "code",
      "source": [
        "#getting specific rows\n",
        "\n",
        "excelData = pd.read_excel(\"student.xlsx\")\n",
        "\n",
        "filterName = excelData[excelData['mark'].isin([75,85])]\n",
        "filterName"
      ],
      "metadata": {
        "colab": {
          "base_uri": "https://localhost:8080/",
          "height": 175
        },
        "id": "YzCGilGs0bV5",
        "outputId": "aafb12f9-8a8e-4e44-e134-97a12b31f18e"
      },
      "execution_count": 85,
      "outputs": [
        {
          "output_type": "execute_result",
          "data": {
            "text/plain": [
              "    id      name  class  mark  gender\n",
              "0    1  John Deo   Four    75  female\n",
              "1    2  Max Ruin  Three    85    male\n",
              "7    8    Asruid   Five    85    male\n",
              "17  18     Honny   Five    75    male"
            ],
            "text/html": [
              "\n",
              "  <div id=\"df-9e8c6009-3d47-499b-8f12-04f101d6f407\">\n",
              "    <div class=\"colab-df-container\">\n",
              "      <div>\n",
              "<style scoped>\n",
              "    .dataframe tbody tr th:only-of-type {\n",
              "        vertical-align: middle;\n",
              "    }\n",
              "\n",
              "    .dataframe tbody tr th {\n",
              "        vertical-align: top;\n",
              "    }\n",
              "\n",
              "    .dataframe thead th {\n",
              "        text-align: right;\n",
              "    }\n",
              "</style>\n",
              "<table border=\"1\" class=\"dataframe\">\n",
              "  <thead>\n",
              "    <tr style=\"text-align: right;\">\n",
              "      <th></th>\n",
              "      <th>id</th>\n",
              "      <th>name</th>\n",
              "      <th>class</th>\n",
              "      <th>mark</th>\n",
              "      <th>gender</th>\n",
              "    </tr>\n",
              "  </thead>\n",
              "  <tbody>\n",
              "    <tr>\n",
              "      <th>0</th>\n",
              "      <td>1</td>\n",
              "      <td>John Deo</td>\n",
              "      <td>Four</td>\n",
              "      <td>75</td>\n",
              "      <td>female</td>\n",
              "    </tr>\n",
              "    <tr>\n",
              "      <th>1</th>\n",
              "      <td>2</td>\n",
              "      <td>Max Ruin</td>\n",
              "      <td>Three</td>\n",
              "      <td>85</td>\n",
              "      <td>male</td>\n",
              "    </tr>\n",
              "    <tr>\n",
              "      <th>7</th>\n",
              "      <td>8</td>\n",
              "      <td>Asruid</td>\n",
              "      <td>Five</td>\n",
              "      <td>85</td>\n",
              "      <td>male</td>\n",
              "    </tr>\n",
              "    <tr>\n",
              "      <th>17</th>\n",
              "      <td>18</td>\n",
              "      <td>Honny</td>\n",
              "      <td>Five</td>\n",
              "      <td>75</td>\n",
              "      <td>male</td>\n",
              "    </tr>\n",
              "  </tbody>\n",
              "</table>\n",
              "</div>\n",
              "      <button class=\"colab-df-convert\" onclick=\"convertToInteractive('df-9e8c6009-3d47-499b-8f12-04f101d6f407')\"\n",
              "              title=\"Convert this dataframe to an interactive table.\"\n",
              "              style=\"display:none;\">\n",
              "        \n",
              "  <svg xmlns=\"http://www.w3.org/2000/svg\" height=\"24px\"viewBox=\"0 0 24 24\"\n",
              "       width=\"24px\">\n",
              "    <path d=\"M0 0h24v24H0V0z\" fill=\"none\"/>\n",
              "    <path d=\"M18.56 5.44l.94 2.06.94-2.06 2.06-.94-2.06-.94-.94-2.06-.94 2.06-2.06.94zm-11 1L8.5 8.5l.94-2.06 2.06-.94-2.06-.94L8.5 2.5l-.94 2.06-2.06.94zm10 10l.94 2.06.94-2.06 2.06-.94-2.06-.94-.94-2.06-.94 2.06-2.06.94z\"/><path d=\"M17.41 7.96l-1.37-1.37c-.4-.4-.92-.59-1.43-.59-.52 0-1.04.2-1.43.59L10.3 9.45l-7.72 7.72c-.78.78-.78 2.05 0 2.83L4 21.41c.39.39.9.59 1.41.59.51 0 1.02-.2 1.41-.59l7.78-7.78 2.81-2.81c.8-.78.8-2.07 0-2.86zM5.41 20L4 18.59l7.72-7.72 1.47 1.35L5.41 20z\"/>\n",
              "  </svg>\n",
              "      </button>\n",
              "      \n",
              "  <style>\n",
              "    .colab-df-container {\n",
              "      display:flex;\n",
              "      flex-wrap:wrap;\n",
              "      gap: 12px;\n",
              "    }\n",
              "\n",
              "    .colab-df-convert {\n",
              "      background-color: #E8F0FE;\n",
              "      border: none;\n",
              "      border-radius: 50%;\n",
              "      cursor: pointer;\n",
              "      display: none;\n",
              "      fill: #1967D2;\n",
              "      height: 32px;\n",
              "      padding: 0 0 0 0;\n",
              "      width: 32px;\n",
              "    }\n",
              "\n",
              "    .colab-df-convert:hover {\n",
              "      background-color: #E2EBFA;\n",
              "      box-shadow: 0px 1px 2px rgba(60, 64, 67, 0.3), 0px 1px 3px 1px rgba(60, 64, 67, 0.15);\n",
              "      fill: #174EA6;\n",
              "    }\n",
              "\n",
              "    [theme=dark] .colab-df-convert {\n",
              "      background-color: #3B4455;\n",
              "      fill: #D2E3FC;\n",
              "    }\n",
              "\n",
              "    [theme=dark] .colab-df-convert:hover {\n",
              "      background-color: #434B5C;\n",
              "      box-shadow: 0px 1px 3px 1px rgba(0, 0, 0, 0.15);\n",
              "      filter: drop-shadow(0px 1px 2px rgba(0, 0, 0, 0.3));\n",
              "      fill: #FFFFFF;\n",
              "    }\n",
              "  </style>\n",
              "\n",
              "      <script>\n",
              "        const buttonEl =\n",
              "          document.querySelector('#df-9e8c6009-3d47-499b-8f12-04f101d6f407 button.colab-df-convert');\n",
              "        buttonEl.style.display =\n",
              "          google.colab.kernel.accessAllowed ? 'block' : 'none';\n",
              "\n",
              "        async function convertToInteractive(key) {\n",
              "          const element = document.querySelector('#df-9e8c6009-3d47-499b-8f12-04f101d6f407');\n",
              "          const dataTable =\n",
              "            await google.colab.kernel.invokeFunction('convertToInteractive',\n",
              "                                                     [key], {});\n",
              "          if (!dataTable) return;\n",
              "\n",
              "          const docLinkHtml = 'Like what you see? Visit the ' +\n",
              "            '<a target=\"_blank\" href=https://colab.research.google.com/notebooks/data_table.ipynb>data table notebook</a>'\n",
              "            + ' to learn more about interactive tables.';\n",
              "          element.innerHTML = '';\n",
              "          dataTable['output_type'] = 'display_data';\n",
              "          await google.colab.output.renderOutput(dataTable, element);\n",
              "          const docLink = document.createElement('div');\n",
              "          docLink.innerHTML = docLinkHtml;\n",
              "          element.appendChild(docLink);\n",
              "        }\n",
              "      </script>\n",
              "    </div>\n",
              "  </div>\n",
              "  "
            ]
          },
          "metadata": {},
          "execution_count": 85
        }
      ]
    },
    {
      "cell_type": "code",
      "source": [
        "# getting output multiple values\n",
        "# multiple conditional statements, each condition must be surrounded by parentheses ()\n",
        "\n",
        "filterData = excelData[(excelData['mark'] == 18) | (excelData['mark'] == 89)]\n",
        "filterData"
      ],
      "metadata": {
        "colab": {
          "base_uri": "https://localhost:8080/",
          "height": 112
        },
        "id": "DAcXKFUf-iue",
        "outputId": "bae11cd9-ae58-451f-88b6-c3974003046c"
      },
      "execution_count": 89,
      "outputs": [
        {
          "output_type": "execute_result",
          "data": {
            "text/plain": [
              "    id    name class  mark  gender\n",
              "10  11  Ronald   Six    89  female\n",
              "18  19   Tinny  Nine    18    male"
            ],
            "text/html": [
              "\n",
              "  <div id=\"df-bbba6b3d-5fb4-45fc-8783-d93850965ef3\">\n",
              "    <div class=\"colab-df-container\">\n",
              "      <div>\n",
              "<style scoped>\n",
              "    .dataframe tbody tr th:only-of-type {\n",
              "        vertical-align: middle;\n",
              "    }\n",
              "\n",
              "    .dataframe tbody tr th {\n",
              "        vertical-align: top;\n",
              "    }\n",
              "\n",
              "    .dataframe thead th {\n",
              "        text-align: right;\n",
              "    }\n",
              "</style>\n",
              "<table border=\"1\" class=\"dataframe\">\n",
              "  <thead>\n",
              "    <tr style=\"text-align: right;\">\n",
              "      <th></th>\n",
              "      <th>id</th>\n",
              "      <th>name</th>\n",
              "      <th>class</th>\n",
              "      <th>mark</th>\n",
              "      <th>gender</th>\n",
              "    </tr>\n",
              "  </thead>\n",
              "  <tbody>\n",
              "    <tr>\n",
              "      <th>10</th>\n",
              "      <td>11</td>\n",
              "      <td>Ronald</td>\n",
              "      <td>Six</td>\n",
              "      <td>89</td>\n",
              "      <td>female</td>\n",
              "    </tr>\n",
              "    <tr>\n",
              "      <th>18</th>\n",
              "      <td>19</td>\n",
              "      <td>Tinny</td>\n",
              "      <td>Nine</td>\n",
              "      <td>18</td>\n",
              "      <td>male</td>\n",
              "    </tr>\n",
              "  </tbody>\n",
              "</table>\n",
              "</div>\n",
              "      <button class=\"colab-df-convert\" onclick=\"convertToInteractive('df-bbba6b3d-5fb4-45fc-8783-d93850965ef3')\"\n",
              "              title=\"Convert this dataframe to an interactive table.\"\n",
              "              style=\"display:none;\">\n",
              "        \n",
              "  <svg xmlns=\"http://www.w3.org/2000/svg\" height=\"24px\"viewBox=\"0 0 24 24\"\n",
              "       width=\"24px\">\n",
              "    <path d=\"M0 0h24v24H0V0z\" fill=\"none\"/>\n",
              "    <path d=\"M18.56 5.44l.94 2.06.94-2.06 2.06-.94-2.06-.94-.94-2.06-.94 2.06-2.06.94zm-11 1L8.5 8.5l.94-2.06 2.06-.94-2.06-.94L8.5 2.5l-.94 2.06-2.06.94zm10 10l.94 2.06.94-2.06 2.06-.94-2.06-.94-.94-2.06-.94 2.06-2.06.94z\"/><path d=\"M17.41 7.96l-1.37-1.37c-.4-.4-.92-.59-1.43-.59-.52 0-1.04.2-1.43.59L10.3 9.45l-7.72 7.72c-.78.78-.78 2.05 0 2.83L4 21.41c.39.39.9.59 1.41.59.51 0 1.02-.2 1.41-.59l7.78-7.78 2.81-2.81c.8-.78.8-2.07 0-2.86zM5.41 20L4 18.59l7.72-7.72 1.47 1.35L5.41 20z\"/>\n",
              "  </svg>\n",
              "      </button>\n",
              "      \n",
              "  <style>\n",
              "    .colab-df-container {\n",
              "      display:flex;\n",
              "      flex-wrap:wrap;\n",
              "      gap: 12px;\n",
              "    }\n",
              "\n",
              "    .colab-df-convert {\n",
              "      background-color: #E8F0FE;\n",
              "      border: none;\n",
              "      border-radius: 50%;\n",
              "      cursor: pointer;\n",
              "      display: none;\n",
              "      fill: #1967D2;\n",
              "      height: 32px;\n",
              "      padding: 0 0 0 0;\n",
              "      width: 32px;\n",
              "    }\n",
              "\n",
              "    .colab-df-convert:hover {\n",
              "      background-color: #E2EBFA;\n",
              "      box-shadow: 0px 1px 2px rgba(60, 64, 67, 0.3), 0px 1px 3px 1px rgba(60, 64, 67, 0.15);\n",
              "      fill: #174EA6;\n",
              "    }\n",
              "\n",
              "    [theme=dark] .colab-df-convert {\n",
              "      background-color: #3B4455;\n",
              "      fill: #D2E3FC;\n",
              "    }\n",
              "\n",
              "    [theme=dark] .colab-df-convert:hover {\n",
              "      background-color: #434B5C;\n",
              "      box-shadow: 0px 1px 3px 1px rgba(0, 0, 0, 0.15);\n",
              "      filter: drop-shadow(0px 1px 2px rgba(0, 0, 0, 0.3));\n",
              "      fill: #FFFFFF;\n",
              "    }\n",
              "  </style>\n",
              "\n",
              "      <script>\n",
              "        const buttonEl =\n",
              "          document.querySelector('#df-bbba6b3d-5fb4-45fc-8783-d93850965ef3 button.colab-df-convert');\n",
              "        buttonEl.style.display =\n",
              "          google.colab.kernel.accessAllowed ? 'block' : 'none';\n",
              "\n",
              "        async function convertToInteractive(key) {\n",
              "          const element = document.querySelector('#df-bbba6b3d-5fb4-45fc-8783-d93850965ef3');\n",
              "          const dataTable =\n",
              "            await google.colab.kernel.invokeFunction('convertToInteractive',\n",
              "                                                     [key], {});\n",
              "          if (!dataTable) return;\n",
              "\n",
              "          const docLinkHtml = 'Like what you see? Visit the ' +\n",
              "            '<a target=\"_blank\" href=https://colab.research.google.com/notebooks/data_table.ipynb>data table notebook</a>'\n",
              "            + ' to learn more about interactive tables.';\n",
              "          element.innerHTML = '';\n",
              "          dataTable['output_type'] = 'display_data';\n",
              "          await google.colab.output.renderOutput(dataTable, element);\n",
              "          const docLink = document.createElement('div');\n",
              "          docLink.innerHTML = docLinkHtml;\n",
              "          element.appendChild(docLink);\n",
              "        }\n",
              "      </script>\n",
              "    </div>\n",
              "  </div>\n",
              "  "
            ]
          },
          "metadata": {},
          "execution_count": 89
        }
      ]
    },
    {
      "cell_type": "code",
      "source": [
        "# The notna() conditional function returns a True for each row the values are not an Null value\n",
        "\n",
        "nullFunc = excelData[excelData['name'].notna()]\n",
        "print(nullFunc)"
      ],
      "metadata": {
        "colab": {
          "base_uri": "https://localhost:8080/"
        },
        "id": "mRdOh4Pz_l8A",
        "outputId": "31e527b7-d112-4dc2-a9a9-d53fe83361a4"
      },
      "execution_count": 90,
      "outputs": [
        {
          "output_type": "stream",
          "name": "stdout",
          "text": [
            "    id         name  class  mark  gender\n",
            "0    1     John Deo   Four    75  female\n",
            "1    2     Max Ruin  Three    85    male\n",
            "2    3       Arnold  Three    55    male\n",
            "3    4   Krish Star   Four    60  female\n",
            "4    5    John Mike   Four    60  female\n",
            "5    6    Alex John   Four    55    male\n",
            "6    7  My John Rob   Five    78    male\n",
            "7    8       Asruid   Five    85    male\n",
            "8    9      Tes Qry    Six    78    male\n",
            "9   10     Big John   Four    55  female\n",
            "10  11       Ronald    Six    89  female\n",
            "11  12        Recky    Six    94  female\n",
            "12  13          Kty  Seven    88  female\n",
            "13  14         Bigy  Seven    88  female\n",
            "14  15     Tade Row   Four    88    male\n",
            "15  16        Gimmy   Four    88    male\n",
            "16  17        Tumyu    Six    54    male\n",
            "17  18        Honny   Five    75    male\n",
            "18  19        Tinny   Nine    18    male\n",
            "19  20       Jackly   Nine    65  female\n",
            "20  21   Babby John   Four    69  female\n",
            "21  22       Reggid  Seven    55  female\n",
            "22  23        Herod  Eight    79    male\n",
            "23  24    Tiddy Now  Seven    78    male\n",
            "24  25     Giff Tow    Six    88    male\n",
            "25  26       Crelea  Seven    79    male\n",
            "26  27     Big Nose  Three    81  female\n",
            "27  28    Rojj Base  Seven    86  female\n",
            "28  29  Tess Played  Seven    55    male\n",
            "29  30    Reppy Red    Six    79  female\n",
            "30  31  Marry Toeey   Four    88    male\n",
            "31  32    Binn Rott  Seven    90  female\n",
            "32  33    Kenn Rein    Six    96  female\n",
            "33  34     Gain Toe  Seven    69    male\n",
            "34  35   Rows Noump    Six    88  female\n"
          ]
        }
      ]
    },
    {
      "cell_type": "markdown",
      "source": [
        "How do I select specific rows and columns from a DataFrame?"
      ],
      "metadata": {
        "id": "xkttg6bkALwv"
      }
    },
    {
      "cell_type": "code",
      "source": [
        "spec_row = excelData.loc[excelData['mark'] > 50, [\"mark\", \"name\",\"gender\",\"class\"]]\n",
        "print(spec_row)"
      ],
      "metadata": {
        "colab": {
          "base_uri": "https://localhost:8080/"
        },
        "id": "fCEYN9TWAM6n",
        "outputId": "d1da9c06-6876-4531-ee14-ad3743cd60d8"
      },
      "execution_count": 119,
      "outputs": [
        {
          "output_type": "stream",
          "name": "stdout",
          "text": [
            "    mark         name  gender  class\n",
            "0     75     John Deo  female   Four\n",
            "1     85     Max Ruin    male  Three\n",
            "2     55       Arnold    male  Three\n",
            "3     60   Krish Star  female   Four\n",
            "4     60    John Mike  female   Four\n",
            "5     55    Alex John    male   Four\n",
            "6     78  My John Rob    male   Five\n",
            "7     85       Asruid    male   Five\n",
            "8     78      Tes Qry    male    Six\n",
            "9     55     Big John  female   Four\n",
            "10    89       Ronald  female    Six\n",
            "11    94        Recky  female    Six\n",
            "12    88          Kty  female  Seven\n",
            "13    88         Bigy  female  Seven\n",
            "14    88     Tade Row    male   Four\n",
            "15    88        Gimmy    male   Four\n",
            "16    54        Tumyu    male    Six\n",
            "17    75        Honny    male   Five\n",
            "19    65       Jackly  female   Nine\n",
            "20    69   Babby John  female   Four\n",
            "21    55       Reggid  female  Seven\n",
            "22    79        Herod    male  Eight\n",
            "23    78    Tiddy Now    male  Seven\n",
            "24    88     Giff Tow    male    Six\n",
            "25    79       Crelea    male  Seven\n",
            "26    81     Big Nose  female  Three\n",
            "27    86    Rojj Base  female  Seven\n",
            "28    55  Tess Played    male  Seven\n",
            "29    79    Reppy Red  female    Six\n",
            "30    88  Marry Toeey    male   Four\n",
            "31    90    Binn Rott  female  Seven\n",
            "32    96    Kenn Rein  female    Six\n",
            "33    69     Gain Toe    male  Seven\n",
            "34    88   Rows Noump  female    Six\n"
          ]
        }
      ]
    },
    {
      "cell_type": "code",
      "source": [
        "# locate row\n",
        "print(excelData.loc[2])"
      ],
      "metadata": {
        "colab": {
          "base_uri": "https://localhost:8080/"
        },
        "id": "dKVUkPXWETrC",
        "outputId": "1f640387-cbeb-452f-923f-2966549c451c"
      },
      "execution_count": 122,
      "outputs": [
        {
          "output_type": "stream",
          "name": "stdout",
          "text": [
            "    id         name  class  mark  gender\n",
            "0    1     John Deo   Four    75  female\n",
            "1    2     Max Ruin  Three    85    male\n",
            "2    3       Arnold  Three    55    male\n",
            "3    4   Krish Star   Four    60  female\n",
            "4    5    John Mike   Four    60  female\n",
            "5    6    Alex John   Four    55    male\n",
            "6    7  My John Rob   Five    78    male\n",
            "7    8       Asruid   Five    85    male\n",
            "8    9      Tes Qry    Six    78    male\n",
            "9   10     Big John   Four    55  female\n",
            "10  11       Ronald    Six    89  female\n",
            "11  12        Recky    Six    94  female\n",
            "12  13          Kty  Seven    88  female\n",
            "13  14         Bigy  Seven    88  female\n",
            "14  15     Tade Row   Four    88    male\n",
            "15  16        Gimmy   Four    88    male\n",
            "16  17        Tumyu    Six    54    male\n",
            "17  18        Honny   Five    75    male\n",
            "18  19        Tinny   Nine    18    male\n",
            "19  20       Jackly   Nine    65  female\n",
            "20  21   Babby John   Four    69  female\n",
            "21  22       Reggid  Seven    55  female\n",
            "22  23        Herod  Eight    79    male\n",
            "23  24    Tiddy Now  Seven    78    male\n",
            "24  25     Giff Tow    Six    88    male\n",
            "25  26       Crelea  Seven    79    male\n",
            "26  27     Big Nose  Three    81  female\n",
            "27  28    Rojj Base  Seven    86  female\n",
            "28  29  Tess Played  Seven    55    male\n",
            "29  30    Reppy Red    Six    79  female\n",
            "30  31  Marry Toeey   Four    88    male\n",
            "31  32    Binn Rott  Seven    90  female\n",
            "32  33    Kenn Rein    Six    96  female\n",
            "33  34     Gain Toe  Seven    69    male\n",
            "34  35   Rows Noump    Six    88  female\n",
            "id             3\n",
            "name      Arnold\n",
            "class      Three\n",
            "mark          55\n",
            "gender      male\n",
            "Name: 2, dtype: object\n"
          ]
        }
      ]
    }
  ]
}