{
  "cells": [
    {
      "cell_type": "markdown",
      "metadata": {
        "id": "4KNM8SrIiKnS"
      },
      "source": [
        "# Pandas"
      ]
    },
    {
      "cell_type": "markdown",
      "metadata": {
        "id": "Pp_9fgrmS08P"
      },
      "source": [
        "⚡**there are 2 data structures in pandas** \n",
        "      \n",
        "\n",
        "1.   **Series**\n",
        "2.   **DataFrames**  ⚡"
      ]
    },
    {
      "cell_type": "markdown",
      "metadata": {
        "id": "vlewi4ncTO0x"
      },
      "source": [
        "Series\n",
        "--> one dimensional array holding data of any type"
      ]
    },
    {
      "cell_type": "code",
      "execution_count": 9,
      "metadata": {
        "colab": {
          "base_uri": "https://localhost:8080/"
        },
        "id": "YaZg5mwBTQgU",
        "outputId": "44830935-2488-45ef-b95f-5a3846e5942c"
      },
      "outputs": [
        {
          "name": "stdout",
          "output_type": "stream",
          "text": [
            "0    s\n",
            "1    a\n",
            "2    m\n",
            "3    r\n",
            "4    a\n",
            "5    t\n",
            "dtype: object\n"
          ]
        }
      ],
      "source": [
        "import pandas as pd\n",
        "\n",
        "mydata = ['s','a','m','r','a','t']\n",
        "\n",
        "mySeries = pd.Series(mydata)\n",
        "print(mySeries)"
      ]
    },
    {
      "cell_type": "code",
      "execution_count": 24,
      "metadata": {
        "colab": {
          "base_uri": "https://localhost:8080/"
        },
        "id": "JD6jGHtnaR4K",
        "outputId": "6b60ccb3-6022-4ad6-8e1c-74df64dd81fd"
      },
      "outputs": [
        {
          "name": "stdout",
          "output_type": "stream",
          "text": [
            "author                   samrat\n",
            "nickname                 sanjay\n",
            "fav fiction character     bruce\n",
            "dtype: object\n"
          ]
        }
      ],
      "source": [
        "# mySeriesData = (['samrat','sanjay','bruce'])\n",
        "mySeriesData = {'author': 'samrat', 'nickname': 'sanjay', 'fav fiction character': 'bruce'}\n",
        "mySeries2 = pd.Series(mySeriesData)\n",
        "print(mySeries2)"
      ]
    },
    {
      "cell_type": "code",
      "execution_count": 28,
      "metadata": {
        "colab": {
          "base_uri": "https://localhost:8080/"
        },
        "id": "p69UOW-0dznI",
        "outputId": "7d778a8e-bff4-4fd5-a53d-116dc2d20d3f"
      },
      "outputs": [
        {
          "name": "stdout",
          "output_type": "stream",
          "text": [
            "0    20\n",
            "1    21\n",
            "2    15\n",
            "Name: age, dtype: int64\n"
          ]
        }
      ],
      "source": [
        "age = pd.Series([20,21,15], name = \"age\")\n",
        "print(age)"
      ]
    },
    {
      "cell_type": "code",
      "execution_count": 33,
      "metadata": {
        "colab": {
          "base_uri": "https://localhost:8080/"
        },
        "id": "AHCuosMNeZRb",
        "outputId": "f8d1cde3-f8d3-4a41-c22c-bb4d09501773"
      },
      "outputs": [
        {
          "name": "stdout",
          "output_type": "stream",
          "text": [
            "maximum age is : 21\n",
            "minimum age is : 15\n"
          ]
        }
      ],
      "source": [
        "# i want to maximum value in age\n",
        "print('maximum age is :', age.max())\n",
        "# i want to minimum value in age\n",
        "print('minimum age is :', age.min())"
      ]
    },
    {
      "cell_type": "code",
      "execution_count": 34,
      "metadata": {
        "colab": {
          "base_uri": "https://localhost:8080/"
        },
        "id": "5AkUbZZme9vI",
        "outputId": "29a2954d-9363-4f57-dba8-8244fe4bf470"
      },
      "outputs": [
        {
          "name": "stdout",
          "output_type": "stream",
          "text": [
            "count     3.000000\n",
            "mean     18.666667\n",
            "std       3.214550\n",
            "min      15.000000\n",
            "25%      17.500000\n",
            "50%      20.000000\n",
            "75%      20.500000\n",
            "max      21.000000\n",
            "Name: age, dtype: float64\n"
          ]
        }
      ],
      "source": [
        "### it describes the all details in the array \n",
        "print(age.describe())"
      ]
    },
    {
      "cell_type": "markdown",
      "metadata": {
        "id": "cRm4V5pgfvWC"
      },
      "source": [
        "The describe() method provides a quick overview of the numerical data in a DataFrame."
      ]
    },
    {
      "cell_type": "markdown",
      "metadata": {
        "id": "LYh4BtXEZeJL"
      },
      "source": [
        "💪⚡ A Series, by contrast, is a sequence of data values. If a DataFrame is a table, a Series is a list. And in fact you can create one with nothing more than a list:*italicized text* ⚡"
      ]
    },
    {
      "cell_type": "markdown",
      "metadata": {
        "id": "VBVabQAUU5T3"
      },
      "source": [
        "Dataframe --> multi dimensional array"
      ]
    },
    {
      "cell_type": "code",
      "execution_count": 19,
      "metadata": {
        "colab": {
          "base_uri": "https://localhost:8080/"
        },
        "id": "oeOHCbbTU6h_",
        "outputId": "edc2b529-8920-4e47-bd91-7202653c2321"
      },
      "outputs": [
        {
          "name": "stdout",
          "output_type": "stream",
          "text": [
            "               Name   power Avenger\n",
            "10        spiderman    webs     yes\n",
            "20          ironman    suit     yes\n",
            "30  captain america  shield     yes\n",
            "40             thor  hammer     yes\n"
          ]
        }
      ],
      "source": [
        "df = pd.DataFrame({\n",
        "    'Name':['spiderman','ironman','captain america','thor'], \n",
        "    'power':['webs','suit','shield','hammer',],\n",
        "    'Avenger':['yes','yes','yes','yes']\n",
        "    },\n",
        "                  index = [10,20,30,40]\n",
        "                  );\n",
        "print(df)"
      ]
    },
    {
      "cell_type": "code",
      "execution_count": 25,
      "metadata": {
        "colab": {
          "base_uri": "https://localhost:8080/"
        },
        "id": "OPqAJk5BXfms",
        "outputId": "e0dbb097-2170-4793-fc7d-f7d90a8d64f5"
      },
      "outputs": [
        {
          "name": "stdout",
          "output_type": "stream",
          "text": [
            "10          spiderman\n",
            "20            ironman\n",
            "30    captain america\n",
            "40               thor\n",
            "Name: Name, dtype: object\n"
          ]
        }
      ],
      "source": [
        "### When selecting a single column of a pandas DataFrame, the result is a pandas Series.\n",
        "### To select the column, use the column label in between square brackets [].\n",
        "\n",
        "print(df[\"Name\"])"
      ]
    },
    {
      "cell_type": "code",
      "execution_count": 26,
      "metadata": {
        "colab": {
          "base_uri": "https://localhost:8080/"
        },
        "id": "XOjArYMSdNHI",
        "outputId": "6e5fe281-5767-4134-c6e8-c3176b07e9fb"
      },
      "outputs": [
        {
          "name": "stdout",
          "output_type": "stream",
          "text": [
            "10      webs\n",
            "20      suit\n",
            "30    shield\n",
            "40    hammer\n",
            "Name: power, dtype: object\n"
          ]
        }
      ],
      "source": [
        "print(df[\"power\"])"
      ]
    },
    {
      "cell_type": "markdown",
      "metadata": {
        "id": "CnvYltpSiHme"
      },
      "source": [
        "# Read data from file"
      ]
    },
    {
      "cell_type": "code",
      "execution_count": 37,
      "metadata": {
        "colab": {
          "base_uri": "https://localhost:8080/"
        },
        "id": "a0C6zeUliWEk",
        "outputId": "8069ffb9-930c-425d-fca2-47a3188e9c2c"
      },
      "outputs": [
        {
          "name": "stdout",
          "output_type": "stream",
          "text": [
            "    id         name  class  mark  gender\n",
            "0    1     John Deo   Four    75  female\n",
            "1    2     Max Ruin  Three    85    male\n",
            "2    3       Arnold  Three    55    male\n",
            "3    4   Krish Star   Four    60  female\n",
            "4    5    John Mike   Four    60  female\n",
            "5    6    Alex John   Four    55    male\n",
            "6    7  My John Rob  Fifth    78    male\n",
            "7    8       Asruid   Five    85    male\n",
            "8    9      Tes Qry    Six    78    male\n",
            "9   10     Big John   Four    55  female\n",
            "10  11       Ronald    Six    89  female\n",
            "11  12        Recky    Six    94  female\n",
            "12  13          Kty  Seven    88  female\n",
            "13  14         Bigy  Seven    88  female\n",
            "14  15     Tade Row   Four    88    male\n",
            "15  16        Gimmy   Four    88    male\n",
            "16  17        Tumyu    Six    54    male\n",
            "17  18        Honny   Five    75    male\n",
            "18  19        Tinny   Nine    18    male\n",
            "19  20       Jackly   Nine    65  female\n",
            "20  21   Babby John   Four    69  female\n",
            "21  22       Reggid  Seven    55  female\n",
            "22  23        Herod  Eight    79    male\n",
            "23  24    Tiddy Now  Seven    78    male\n",
            "24  25     Giff Tow  Seven    88    male\n",
            "25  26       Crelea  Seven    79    male\n",
            "26  27     Big Nose  Three    81  female\n",
            "27  28    Rojj Base  Seven    86  female\n",
            "28  29  Tess Played  Seven    55    male\n",
            "29  30    Reppy Red    Six    79  female\n",
            "30  31  Marry Toeey   Four    88    male\n",
            "31  32    Binn Rott  Seven    90  female\n",
            "32  33    Kenn Rein    Six    96  female\n",
            "33  34     Gain Toe  Seven    69    male\n",
            "34  35   Rows Noump    Six    88  female\n"
          ]
        }
      ],
      "source": [
        "read_file = pd.read_csv(\"student.csv\")\n",
        "print(read_file)"
      ]
    },
    {
      "cell_type": "code",
      "execution_count": 41,
      "metadata": {
        "colab": {
          "base_uri": "https://localhost:8080/"
        },
        "id": "x9AcoAx9jT3P",
        "outputId": "c40bff76-f742-4ab6-8460-69b63ed335b4"
      },
      "outputs": [
        {
          "name": "stdout",
          "output_type": "stream",
          "text": [
            "   id         name  class  mark  gender\n",
            "0   1     John Deo   Four    75  female\n",
            "1   2     Max Ruin  Three    85    male\n",
            "2   3       Arnold  Three    55    male\n",
            "3   4   Krish Star   Four    60  female\n",
            "4   5    John Mike   Four    60  female\n",
            "5   6    Alex John   Four    55    male\n",
            "6   7  My John Rob  Fifth    78    male\n",
            "7   8       Asruid   Five    85    male\n",
            "0     False\n",
            "1     False\n",
            "2     False\n",
            "3     False\n",
            "4     False\n",
            "5     False\n",
            "6     False\n",
            "7     False\n",
            "8     False\n",
            "9     False\n",
            "10    False\n",
            "11     True\n",
            "12    False\n",
            "13    False\n",
            "14    False\n",
            "15    False\n",
            "16    False\n",
            "17    False\n",
            "18    False\n",
            "19    False\n",
            "20    False\n",
            "21    False\n",
            "22    False\n",
            "23    False\n",
            "24    False\n",
            "25    False\n",
            "26    False\n",
            "27    False\n",
            "28    False\n",
            "29    False\n",
            "30    False\n",
            "31    False\n",
            "32     True\n",
            "33    False\n",
            "34    False\n",
            "Name: mark, dtype: bool\n",
            "    id        name  class  mark  gender\n",
            "33  34    Gain Toe  Seven    69    male\n",
            "34  35  Rows Noump    Six    88  female\n"
          ]
        }
      ],
      "source": [
        "# i want to load some column and rows \n",
        "\n",
        "print(read_file.head(8))\n",
        "\n",
        "# i do some conditions \n",
        "\n",
        "print(read_file.mark > 90)\n",
        "\n",
        "# pandas also provides a tail() method. For example, titanic.tail(10)\n",
        "#will return the last 10 rows of the DataFrame\n",
        "\n",
        "print(read_file.tail(2))"
      ]
    },
    {
      "cell_type": "markdown",
      "metadata": {
        "id": "3f1kKSHwk-NF"
      },
      "source": [
        "Read file from excel sheet"
      ]
    },
    {
      "cell_type": "code",
      "execution_count": 52,
      "metadata": {
        "colab": {
          "base_uri": "https://localhost:8080/"
        },
        "id": "GGS_c1ERk9gn",
        "outputId": "a1c8e998-b96f-4294-a02e-ef8de6be1318"
      },
      "outputs": [
        {
          "name": "stdout",
          "output_type": "stream",
          "text": [
            "    id         name  class  mark  gender\n",
            "0    1     John Deo   Four    75  female\n",
            "1    2     Max Ruin  Three    85    male\n",
            "2    3       Arnold  Three    55    male\n",
            "3    4   Krish Star   Four    60  female\n",
            "4    5    John Mike   Four    60  female\n",
            "5    6    Alex John   Four    55    male\n",
            "6    7  My John Rob   Five    78    male\n",
            "7    8       Asruid   Five    85    male\n",
            "8    9      Tes Qry    Six    78    male\n",
            "9   10     Big John   Four    55  female\n",
            "10  11       Ronald    Six    89  female\n",
            "11  12        Recky    Six    94  female\n",
            "12  13          Kty  Seven    88  female\n",
            "13  14         Bigy  Seven    88  female\n",
            "14  15     Tade Row   Four    88    male\n",
            "15  16        Gimmy   Four    88    male\n",
            "16  17        Tumyu    Six    54    male\n",
            "17  18        Honny   Five    75    male\n",
            "18  19        Tinny   Nine    18    male\n",
            "19  20       Jackly   Nine    65  female\n",
            "20  21   Babby John   Four    69  female\n",
            "21  22       Reggid  Seven    55  female\n",
            "22  23        Herod  Eight    79    male\n",
            "23  24    Tiddy Now  Seven    78    male\n",
            "24  25     Giff Tow    Six    88    male\n",
            "25  26       Crelea  Seven    79    male\n",
            "26  27     Big Nose  Three    81  female\n",
            "27  28    Rojj Base  Seven    86  female\n",
            "28  29  Tess Played  Seven    55    male\n",
            "29  30    Reppy Red    Six    79  female\n",
            "30  31  Marry Toeey   Four    88    male\n",
            "31  32    Binn Rott  Seven    90  female\n",
            "32  33    Kenn Rein    Six    96  female\n",
            "33  34     Gain Toe  Seven    69    male\n",
            "34  35   Rows Noump    Six    88  female\n",
            "0        John Deo\n",
            "1        Max Ruin\n",
            "2          Arnold\n",
            "3      Krish Star\n",
            "4       John Mike\n",
            "5       Alex John\n",
            "6     My John Rob\n",
            "7          Asruid\n",
            "8         Tes Qry\n",
            "9        Big John\n",
            "10         Ronald\n",
            "11          Recky\n",
            "12            Kty\n",
            "13           Bigy\n",
            "14       Tade Row\n",
            "15          Gimmy\n",
            "16          Tumyu\n",
            "17          Honny\n",
            "18          Tinny\n",
            "19         Jackly\n",
            "20     Babby John\n",
            "21         Reggid\n",
            "22          Herod\n",
            "23      Tiddy Now\n",
            "24       Giff Tow\n",
            "25         Crelea\n",
            "26       Big Nose\n",
            "27      Rojj Base\n",
            "28    Tess Played\n",
            "29      Reppy Red\n",
            "30    Marry Toeey\n",
            "31      Binn Rott\n",
            "32      Kenn Rein\n",
            "33       Gain Toe\n",
            "34     Rows Noump\n",
            "Name: name, dtype: object\n",
            "   id         name  class  mark  gender\n",
            "0   1     John Deo   Four    75  female\n",
            "1   2     Max Ruin  Three    85    male\n",
            "2   3       Arnold  Three    55    male\n",
            "3   4   Krish Star   Four    60  female\n",
            "4   5    John Mike   Four    60  female\n",
            "5   6    Alex John   Four    55    male\n",
            "6   7  My John Rob   Five    78    male\n",
            "7   8       Asruid   Five    85    male\n",
            "    id         name  class  mark  gender\n",
            "27  28    Rojj Base  Seven    86  female\n",
            "28  29  Tess Played  Seven    55    male\n",
            "29  30    Reppy Red    Six    79  female\n",
            "30  31  Marry Toeey   Four    88    male\n",
            "31  32    Binn Rott  Seven    90  female\n",
            "32  33    Kenn Rein    Six    96  female\n",
            "33  34     Gain Toe  Seven    69    male\n",
            "34  35   Rows Noump    Six    88  female\n"
          ]
        }
      ],
      "source": [
        "read_file_excel = pd.read_excel(\"student.xlsx\")\n",
        "print(read_file_excel)\n",
        "\n",
        "### sort the heads \n",
        "print(read_file_excel.name)\n",
        "\n",
        "print(read_file_excel.head(8))\n",
        "\n",
        "print(read_file_excel.tail(8))\n",
        "\n"
      ]
    },
    {
      "cell_type": "code",
      "execution_count": 53,
      "metadata": {
        "colab": {
          "base_uri": "https://localhost:8080/"
        },
        "id": "z2INs6JtmVJH",
        "outputId": "fa1abc05-34f9-47ee-b36d-10195a434636"
      },
      "outputs": [
        {
          "name": "stdout",
          "output_type": "stream",
          "text": [
            "<class 'pandas.core.frame.DataFrame'>\n",
            "RangeIndex: 35 entries, 0 to 34\n",
            "Data columns (total 5 columns):\n",
            " #   Column  Non-Null Count  Dtype \n",
            "---  ------  --------------  ----- \n",
            " 0   id      35 non-null     int64 \n",
            " 1   name    35 non-null     object\n",
            " 2   class   35 non-null     object\n",
            " 3   mark    35 non-null     int64 \n",
            " 4   gender  35 non-null     object\n",
            "dtypes: int64(2), object(3)\n",
            "memory usage: 1.5+ KB\n",
            "None\n"
          ]
        }
      ],
      "source": [
        "### get information from the file\n",
        "\n",
        "print(read_file_excel.info())"
      ]
    },
    {
      "cell_type": "code",
      "execution_count": 59,
      "metadata": {
        "colab": {
          "base_uri": "https://localhost:8080/"
        },
        "id": "c7U3UXTemnaR",
        "outputId": "a74067ab-a557-4e28-8c87-a45e929fa238"
      },
      "outputs": [
        {
          "name": "stdout",
          "output_type": "stream",
          "text": [
            "           name  mark\n",
            "0      John Deo    75\n",
            "1      Max Ruin    85\n",
            "2        Arnold    55\n",
            "3    Krish Star    60\n",
            "4     John Mike    60\n",
            "5     Alex John    55\n",
            "6   My John Rob    78\n",
            "7        Asruid    85\n",
            "8       Tes Qry    78\n",
            "9      Big John    55\n",
            "10       Ronald    89\n",
            "11        Recky    94\n",
            "12          Kty    88\n",
            "13         Bigy    88\n",
            "14     Tade Row    88\n",
            "15        Gimmy    88\n",
            "16        Tumyu    54\n",
            "17        Honny    75\n",
            "18        Tinny    18\n",
            "19       Jackly    65\n",
            "20   Babby John    69\n",
            "21       Reggid    55\n",
            "22        Herod    79\n",
            "23    Tiddy Now    78\n",
            "24     Giff Tow    88\n",
            "25       Crelea    79\n",
            "26     Big Nose    81\n",
            "27    Rojj Base    86\n",
            "28  Tess Played    55\n",
            "29    Reppy Red    79\n",
            "30  Marry Toeey    88\n",
            "31    Binn Rott    90\n",
            "32    Kenn Rein    96\n",
            "33     Gain Toe    69\n",
            "34   Rows Noump    88\n"
          ]
        }
      ],
      "source": [
        "### to select the mmultiple columns\n",
        "\n",
        "# print(read_file_excel)\n",
        "print(read_file_excel[['name','mark']])\n"
      ]
    },
    {
      "cell_type": "code",
      "execution_count": 65,
      "metadata": {
        "colab": {
          "base_uri": "https://localhost:8080/"
        },
        "id": "L_9s-EUYnuSr",
        "outputId": "4f356ad9-87bb-41fa-b124-26151dfbf007"
      },
      "outputs": [
        {
          "name": "stdout",
          "output_type": "stream",
          "text": [
            "Empty DataFrame\n",
            "Columns: [id, name, class, mark, gender]\n",
            "Index: []\n"
          ]
        }
      ],
      "source": [
        "# filter the data \n",
        "filter = read_file_excel[read_file_excel['mark'].isin([40])]\n",
        "print(filter)"
      ]
    },
    {
      "cell_type": "code",
      "execution_count": 72,
      "metadata": {
        "colab": {
          "base_uri": "https://localhost:8080/"
        },
        "id": "Lunkx3MKpqpR",
        "outputId": "a54a6576-bc86-40e7-958f-79e16483b43f"
      },
      "outputs": [
        {
          "name": "stdout",
          "output_type": "stream",
          "text": [
            "    id         name  class  mark  gender\n",
            "2    3       Arnold  Three    55    male\n",
            "3    4   Krish Star   Four    60  female\n",
            "4    5    John Mike   Four    60  female\n",
            "5    6    Alex John   Four    55    male\n",
            "9   10     Big John   Four    55  female\n",
            "16  17        Tumyu    Six    54    male\n",
            "21  22       Reggid  Seven    55  female\n",
            "28  29  Tess Played  Seven    55    male\n"
          ]
        }
      ],
      "source": [
        "# filter the data from the excel file\n",
        "range_From_excelFile = read_file_excel[(read_file_excel['mark'] >= 50) & (read_file_excel['mark'] <= 60)]\n",
        "print(range_From_excelFile)"
      ]
    }
  ],
  "metadata": {
    "colab": {
      "provenance": []
    },
    "kernelspec": {
      "display_name": "Python 3",
      "name": "python3"
    },
    "language_info": {
      "name": "python"
    }
  },
  "nbformat": 4,
  "nbformat_minor": 0
}
